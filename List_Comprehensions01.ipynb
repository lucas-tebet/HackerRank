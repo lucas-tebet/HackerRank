{
  "nbformat": 4,
  "nbformat_minor": 0,
  "metadata": {
    "colab": {
      "name": "Untitled23.ipynb",
      "provenance": [],
      "authorship_tag": "ABX9TyNBKx1JT0bpD1joHM8l/iag",
      "include_colab_link": true
    },
    "kernelspec": {
      "name": "python3",
      "display_name": "Python 3"
    },
    "language_info": {
      "name": "python"
    }
  },
  "cells": [
    {
      "cell_type": "markdown",
      "metadata": {
        "id": "view-in-github",
        "colab_type": "text"
      },
      "source": [
        "<a href=\"https://colab.research.google.com/github/lucas-tebet/HackerRank/blob/main/List_Comprehensions01.ipynb\" target=\"_parent\"><img src=\"https://colab.research.google.com/assets/colab-badge.svg\" alt=\"Open In Colab\"/></a>"
      ]
    },
    {
      "cell_type": "code",
      "metadata": {
        "id": "frubQ2HuWZek"
      },
      "source": [
        "import pandas as pd\n",
        "import numpy as np"
      ],
      "execution_count": 96,
      "outputs": []
    },
    {
      "cell_type": "code",
      "metadata": {
        "colab": {
          "base_uri": "https://localhost:8080/"
        },
        "id": "EdsCfj9eWtPb",
        "outputId": "d788d8fa-7e8b-4be9-97c6-17cde43a3fab"
      },
      "source": [
        "x = int(input('Valor de x: '))\n",
        "y = int(input('Valor de y: '))\n",
        "z = int(input('Valor de z: '))\n",
        "\n",
        "n = int(input('Valor de n: '))\n",
        "\n",
        "lista = []\n",
        "\n",
        "for i in range(0, x+1):\n",
        "  for j in range(0, y+1):\n",
        "    for k in range(0, z+1):\n",
        "      if (i+j+k) != n:\n",
        "        lista.append([i, j, k])\n",
        "\n",
        "lista"
      ],
      "execution_count": 97,
      "outputs": [
        {
          "output_type": "stream",
          "text": [
            "Valor de x: 1\n",
            "Valor de y: 1\n",
            "Valor de z: 1\n",
            "Valor de n: 2\n"
          ],
          "name": "stdout"
        },
        {
          "output_type": "execute_result",
          "data": {
            "text/plain": [
              "[[0, 0, 0], [0, 0, 1], [0, 1, 0], [1, 0, 0], [1, 1, 1]]"
            ]
          },
          "metadata": {
            "tags": []
          },
          "execution_count": 97
        }
      ]
    }
  ]
}